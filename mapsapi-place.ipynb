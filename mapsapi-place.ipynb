{
 "cells": [
  {
   "cell_type": "code",
   "execution_count": null,
   "metadata": {},
   "outputs": [],
   "source": [
    "! pip install pandas\n",
    "!pip install xlrd"
   ]
  },
  {
   "cell_type": "code",
   "execution_count": null,
   "metadata": {
    "scrolled": true
   },
   "outputs": [],
   "source": [
    "#Install Popular times git repo : https://github.com/m-wrzr/populartimes/blob/master/README.md\n",
    "\n",
    "pip install --upgrade git+https://github.com/m-wrzr/populartimes"
   ]
  },
  {
   "cell_type": "code",
   "execution_count": null,
   "metadata": {},
   "outputs": [],
   "source": [
    "# import require libraries\n",
    "#import populartimes\n",
    "import pandas as pd\n"
   ]
  },
  {
   "cell_type": "code",
   "execution_count": null,
   "metadata": {},
   "outputs": [],
   "source": [
    "\n",
    "# Reading an excel file using Python \n",
    "\n",
    "df = pd.read_excel('hospital_details_CA.xlsx', sheetname='in')\n",
    "\n",
    "#print(df.columns)"
   ]
  },
  {
   "cell_type": "code",
   "execution_count": null,
   "metadata": {},
   "outputs": [],
   "source": [
    "# Get unique maps id for the hospital - sample for one id - coordinates from hospital repo\n",
    "#General search for a region with a x,y coordinate range can be created as well\n",
    "x = [df['LATITUDE',1],df['LONGITUDE',1]]\n",
    "y= [df['LATITUDE',1]+1,df['LONGITUDE',1]+1]\n",
    "populartimes.get(\"API-KEY\", [\"hospital\"], x,y)\n"
   ]
  },
  {
   "cell_type": "code",
   "execution_count": null,
   "metadata": {},
   "outputs": [],
   "source": [
    "#\n",
    "populartimes.get_id(\"API-KEY\", \"ID\")"
   ]
  },
  {
   "cell_type": "code",
   "execution_count": null,
   "metadata": {},
   "outputs": [],
   "source": []
  }
 ],
 "metadata": {
  "kernelspec": {
   "display_name": "Python 3",
   "language": "python",
   "name": "python3"
  },
  "language_info": {
   "codemirror_mode": {
    "name": "ipython",
    "version": 3
   },
   "file_extension": ".py",
   "mimetype": "text/x-python",
   "name": "python",
   "nbconvert_exporter": "python",
   "pygments_lexer": "ipython3",
   "version": "3.7.6"
  }
 },
 "nbformat": 4,
 "nbformat_minor": 4
}
